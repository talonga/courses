{
 "cells": [
  {
   "cell_type": "code",
   "execution_count": 1,
   "metadata": {},
   "outputs": [],
   "source": [
    "#Data \n",
    "revenue = [14574.49, 7606.46, 8611.41, 9175.41, 8058.65, 8105.44, 11496.28, 9766.09, 10305.32, 14379.96, 10713.97, 15433.50]\n",
    "expenses = [12051.82, 5695.07, 12319.20, 12089.72, 8658.57, 840.20, 3285.73, 5821.12, 6976.93, 16618.61, 10054.37, 3803.96]"
   ]
  },
  {
   "cell_type": "code",
   "execution_count": 33,
   "metadata": {},
   "outputs": [],
   "source": [
    "profit = []\n",
    "profitFormatted = []\n",
    "profitAfterTax = []\n",
    "profitAtFormatted = []\n",
    "profitMargin = []\n",
    "profitMarginFormatted = []\n",
    "taxRate = 0.3\n",
    "\n",
    "for i in range(len(revenue)):\n",
    "    p = revenue[i] - expenses[i]\n",
    "    pt = round(p * (1-taxRate), 2)\n",
    "    pm = pt / revenue[i]\n",
    "    \n",
    "    profit.append(p)\n",
    "    profitFormatted.append(str(round(p/1000)) + 'k')\n",
    "    profitAfterTax.append(pt)\n",
    "    profitAtFormatted.append(str(round(pt/1000)) + 'k')\n",
    "    profitMargin.append(pm)\n",
    "    profitMarginFormatted.append(str(round(pm * 100)) + '%')\n",
    "\n",
    "meanProfit = sum(profit) / len(profit)"
   ]
  },
  {
   "cell_type": "code",
   "execution_count": 34,
   "metadata": {},
   "outputs": [],
   "source": [
    "goodMonths = []\n",
    "badMonths = []\n",
    "\n",
    "for i in range(len(profit)):\n",
    "    if profitAfterTax[i] >= meanProfit:\n",
    "        goodMonths.append(i+1)\n",
    "    else :\n",
    "        badMonths.append(i+1)\n",
    "\n",
    "bestMonth = profitAfterTax.index(max(profitAfterTax))+1\n",
    "worstMonth = profitAfterTax.index(min(profitAfterTax))+1"
   ]
  },
  {
   "cell_type": "code",
   "execution_count": 35,
   "metadata": {},
   "outputs": [
    {
     "name": "stdout",
     "output_type": "stream",
     "text": [
      "Profit           : ['3k', '2k', '-4k', '-3k', '-1k', '7k', '8k', '4k', '3k', '-2k', '1k', '12k']\n",
      "Profit After Tax : ['2k', '1k', '-3k', '-2k', '0k', '5k', '6k', '3k', '2k', '-2k', '0k', '8k']\n",
      "Profit Margin    : ['12%', '18%', '-30%', '-22%', '-5%', '63%', '50%', '28%', '23%', '-11%', '4%', '53%']\n",
      "Good Months      : [6, 7, 8, 12]\n",
      "Bad Months       : [1, 2, 3, 4, 5, 9, 10, 11]\n",
      "Best Month       : 12\n",
      "Worst Month      : 3\n"
     ]
    }
   ],
   "source": [
    "print('Profit           : ' + str(profitFormatted))\n",
    "print('Profit After Tax : ' + str(profitAtFormatted))\n",
    "print('Profit Margin    : ' + str(profitMarginFormatted))\n",
    "print('Good Months      : ' + str(goodMonths))\n",
    "print('Bad Months       : ' + str(badMonths))\n",
    "print('Best Month       : ' + str(bestMonth))\n",
    "print('Worst Month      : ' + str(worstMonth))"
   ]
  },
  {
   "cell_type": "code",
   "execution_count": 20,
   "metadata": {},
   "outputs": [
    {
     "name": "stdout",
     "output_type": "stream",
     "text": [
      "10k\n"
     ]
    }
   ],
   "source": [
    "x = 10030\n",
    "print(str(round(x/1000)) + 'k')"
   ]
  },
  {
   "cell_type": "code",
   "execution_count": null,
   "metadata": {},
   "outputs": [],
   "source": []
  }
 ],
 "metadata": {
  "kernelspec": {
   "display_name": "Python 3",
   "language": "python",
   "name": "python3"
  },
  "language_info": {
   "codemirror_mode": {
    "name": "ipython",
    "version": 3
   },
   "file_extension": ".py",
   "mimetype": "text/x-python",
   "name": "python",
   "nbconvert_exporter": "python",
   "pygments_lexer": "ipython3",
   "version": "3.7.1"
  }
 },
 "nbformat": 4,
 "nbformat_minor": 1
}
